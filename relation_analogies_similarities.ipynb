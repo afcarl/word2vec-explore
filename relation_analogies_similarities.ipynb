{
 "cells": [
  {
   "cell_type": "code",
   "execution_count": 2,
   "metadata": {
    "collapsed": true
   },
   "outputs": [],
   "source": [
    "import pandas as pd\n",
    "import numpy as np"
   ]
  },
  {
   "cell_type": "code",
   "execution_count": 3,
   "metadata": {
    "collapsed": true
   },
   "outputs": [],
   "source": [
    "df = pd.DataFrame(pd.read_csv(\"./data/minimal.50d.3f.csv\")).set_index(\"0\")"
   ]
  },
  {
   "cell_type": "code",
   "execution_count": 4,
   "metadata": {
    "collapsed": true
   },
   "outputs": [],
   "source": [
    "words = df.index"
   ]
  },
  {
   "cell_type": "code",
   "execution_count": 5,
   "metadata": {
    "collapsed": true
   },
   "outputs": [],
   "source": [
    "lens = (df**2).sum(axis=1)\n",
    "dfn = df.div(np.sqrt(lens), axis='index')"
   ]
  },
  {
   "cell_type": "code",
   "execution_count": 6,
   "metadata": {
    "collapsed": true
   },
   "outputs": [],
   "source": [
    "def find_most_similar(word, n=5):\n",
    "    return dfn.dot(dfn.loc[word]).sort_values(ascending=False).head(n)"
   ]
  },
  {
   "cell_type": "code",
   "execution_count": 7,
   "metadata": {
    "collapsed": true
   },
   "outputs": [],
   "source": [
    "def riddle(x, y, a, n = 5):\n",
    "    return dfn.dot(dfn.loc[a] + dfn.loc[y] - dfn.loc[x]).sort_values(ascending=False).head(n)"
   ]
  },
  {
   "cell_type": "markdown",
   "metadata": {},
   "source": [
    "# Similar words"
   ]
  },
  {
   "cell_type": "code",
   "execution_count": 18,
   "metadata": {},
   "outputs": [
    {
     "data": {
      "text/plain": [
       "0\n",
       "probably    1.000000\n",
       "perhaps     0.930569\n",
       "though      0.927258\n",
       "actually    0.925780\n",
       "because     0.915352\n",
       "thought     0.915080\n",
       "indeed      0.913020\n",
       "even        0.912434\n",
       "fact        0.905904\n",
       "might       0.905895\n",
       "dtype: float64"
      ]
     },
     "execution_count": 18,
     "metadata": {},
     "output_type": "execute_result"
    }
   ],
   "source": [
    "find_most_similar(\"probably\", 10)"
   ]
  },
  {
   "cell_type": "code",
   "execution_count": 9,
   "metadata": {
    "scrolled": true
   },
   "outputs": [
    {
     "data": {
      "text/plain": [
       "0\n",
       "blue      1.000000\n",
       "red       0.890182\n",
       "black     0.864808\n",
       "pink      0.845264\n",
       "green     0.834646\n",
       "yellow    0.832033\n",
       "purple    0.829353\n",
       "white     0.822612\n",
       "orange    0.811403\n",
       "bright    0.799914\n",
       "dtype: float64"
      ]
     },
     "execution_count": 9,
     "metadata": {},
     "output_type": "execute_result"
    }
   ],
   "source": [
    "find_most_similar(\"blue\", 10)"
   ]
  },
  {
   "cell_type": "code",
   "execution_count": 15,
   "metadata": {
    "scrolled": false
   },
   "outputs": [
    {
     "data": {
      "text/plain": [
       "0\n",
       "dance      1.000000\n",
       "dancing    0.906835\n",
       "singing    0.871643\n",
       "dances     0.853638\n",
       "music      0.853078\n",
       "musical    0.839160\n",
       "dancers    0.813865\n",
       "hop        0.797830\n",
       "singers    0.788027\n",
       "pop        0.787464\n",
       "dtype: float64"
      ]
     },
     "execution_count": 15,
     "metadata": {},
     "output_type": "execute_result"
    }
   ],
   "source": [
    "find_most_similar(\"dance\", 10)"
   ]
  },
  {
   "cell_type": "code",
   "execution_count": 24,
   "metadata": {
    "scrolled": false
   },
   "outputs": [
    {
     "data": {
      "text/plain": [
       "0\n",
       "europe       1.000000\n",
       "european     0.881251\n",
       "asia         0.834660\n",
       "world        0.826442\n",
       "countries    0.819641\n",
       "britain      0.816004\n",
       "continent    0.798280\n",
       "america      0.794502\n",
       "germany      0.791652\n",
       "country      0.790833\n",
       "dtype: float64"
      ]
     },
     "execution_count": 24,
     "metadata": {},
     "output_type": "execute_result"
    }
   ],
   "source": [
    "find_most_similar(\"europe\", 10)"
   ]
  },
  {
   "cell_type": "code",
   "execution_count": 14,
   "metadata": {
    "scrolled": false
   },
   "outputs": [
    {
     "data": {
      "text/plain": [
       "0\n",
       "vinci           1.000000\n",
       "leonardo        0.739511\n",
       "botticelli      0.672160\n",
       "michelangelo    0.661199\n",
       "caravaggio      0.658187\n",
       "vaio            0.641079\n",
       "andrea          0.631471\n",
       "giovanni        0.628268\n",
       "vita            0.627567\n",
       "francesca       0.626247\n",
       "dtype: float64"
      ]
     },
     "execution_count": 14,
     "metadata": {},
     "output_type": "execute_result"
    }
   ],
   "source": [
    "find_most_similar(\"vinci\", 10)"
   ]
  },
  {
   "cell_type": "markdown",
   "metadata": {},
   "source": [
    "# X is to Y as A is to...?"
   ]
  },
  {
   "cell_type": "code",
   "execution_count": 89,
   "metadata": {
    "scrolled": true
   },
   "outputs": [
    {
     "data": {
      "text/plain": [
       "0\n",
       "king         0.925841\n",
       "queen        0.915029\n",
       "princess     0.832769\n",
       "daughter     0.799874\n",
       "elizabeth    0.798225\n",
       "dtype: float64"
      ]
     },
     "execution_count": 89,
     "metadata": {},
     "output_type": "execute_result"
    }
   ],
   "source": [
    "riddle(\"man\", \"king\", \"woman\")"
   ]
  },
  {
   "cell_type": "code",
   "execution_count": 8,
   "metadata": {
    "scrolled": true
   },
   "outputs": [
    {
     "data": {
      "text/plain": [
       "0\n",
       "king       1.000000\n",
       "prince     0.823656\n",
       "queen      0.783909\n",
       "ii         0.774574\n",
       "emperor    0.773636\n",
       "dtype: float64"
      ]
     },
     "execution_count": 8,
     "metadata": {},
     "output_type": "execute_result"
    }
   ],
   "source": [
    "find_most_similar(\"king\")"
   ]
  },
  {
   "cell_type": "code",
   "execution_count": 68,
   "metadata": {},
   "outputs": [
    {
     "data": {
      "text/plain": [
       "0\n",
       "russia      0.955646\n",
       "ukraine     0.871337\n",
       "russian     0.849050\n",
       "poland      0.846253\n",
       "republic    0.842461\n",
       "dtype: float64"
      ]
     },
     "execution_count": 68,
     "metadata": {},
     "output_type": "execute_result"
    }
   ],
   "source": [
    "riddle(\"warsaw\", \"poland\", \"moscow\")"
   ]
  },
  {
   "cell_type": "code",
   "execution_count": 71,
   "metadata": {
    "scrolled": true
   },
   "outputs": [
    {
     "data": {
      "text/plain": [
       "0\n",
       "down        0.953188\n",
       "up          0.920470\n",
       "falling     0.912033\n",
       "out         0.893837\n",
       "dropping    0.876727\n",
       "dtype: float64"
      ]
     },
     "execution_count": 71,
     "metadata": {},
     "output_type": "execute_result"
    }
   ],
   "source": [
    "riddle(\"good\", \"bad\", \"up\")"
   ]
  },
  {
   "cell_type": "code",
   "execution_count": 98,
   "metadata": {},
   "outputs": [
    {
     "data": {
      "text/plain": [
       "0\n",
       "warsaw      0.902146\n",
       "prague      0.828529\n",
       "poland      0.790613\n",
       "budapest    0.786141\n",
       "berlin      0.771905\n",
       "dtype: float64"
      ]
     },
     "execution_count": 98,
     "metadata": {},
     "output_type": "execute_result"
    }
   ],
   "source": [
    "riddle(\"france\", \"paris\", \"poland\")"
   ]
  },
  {
   "cell_type": "code",
   "execution_count": 97,
   "metadata": {
    "scrolled": false
   },
   "outputs": [
    {
     "data": {
      "text/plain": [
       "0\n",
       "penh         0.921757\n",
       "phnom        0.911644\n",
       "cambodia     0.887138\n",
       "bangkok      0.827557\n",
       "kathmandu    0.814538\n",
       "dtype: float64"
      ]
     },
     "execution_count": 97,
     "metadata": {},
     "output_type": "execute_result"
    }
   ],
   "source": [
    "riddle(\"france\", \"paris\", \"cambodia\")"
   ]
  },
  {
   "cell_type": "code",
   "execution_count": 29,
   "metadata": {},
   "outputs": [
    {
     "data": {
      "text/plain": [
       "0\n",
       "germany        0.801472\n",
       "european       0.726131\n",
       "europe         0.712635\n",
       "switzerland    0.712565\n",
       "hamburg        0.712159\n",
       "dtype: float64"
      ]
     },
     "execution_count": 29,
     "metadata": {},
     "output_type": "execute_result"
    }
   ],
   "source": [
    "riddle(\"city\", \"country\", \"hamburg\")"
   ]
  },
  {
   "cell_type": "code",
   "execution_count": 100,
   "metadata": {
    "scrolled": true
   },
   "outputs": [
    {
     "data": {
      "text/plain": [
       "0\n",
       "disagreement      0.764241\n",
       "disappointment    0.751991\n",
       "underlined        0.742288\n",
       "renewed           0.714227\n",
       "underscored       0.712070\n",
       "dtype: float64"
      ]
     },
     "execution_count": 100,
     "metadata": {},
     "output_type": "execute_result"
    }
   ],
   "source": [
    "riddle(\"hope\", \"disappointment\", \"peace\")"
   ]
  },
  {
   "cell_type": "code",
   "execution_count": 102,
   "metadata": {},
   "outputs": [
    {
     "data": {
      "text/plain": [
       "0\n",
       "english          0.780426\n",
       "language         0.777146\n",
       "translation      0.762685\n",
       "text             0.745039\n",
       "pronunciation    0.729750\n",
       "dtype: float64"
      ]
     },
     "execution_count": 102,
     "metadata": {},
     "output_type": "execute_result"
    }
   ],
   "source": [
    "riddle(\"country\", \"language\", \"britain\")"
   ]
  },
  {
   "cell_type": "code",
   "execution_count": 103,
   "metadata": {
    "scrolled": true
   },
   "outputs": [
    {
     "data": {
      "text/plain": [
       "0\n",
       "translation      0.791412\n",
       "yiddish          0.775919\n",
       "german           0.770875\n",
       "pronunciation    0.761853\n",
       "philology        0.745924\n",
       "dtype: float64"
      ]
     },
     "execution_count": 103,
     "metadata": {},
     "output_type": "execute_result"
    }
   ],
   "source": [
    "dfn.dot(dfn.loc[\"germany\"] - dfn.loc[\"country\"] + dfn.loc[\"language\"]).sort_values(ascending=False).head(5)"
   ]
  },
  {
   "cell_type": "code",
   "execution_count": 30,
   "metadata": {},
   "outputs": [
    {
     "data": {
      "text/plain": [
       "0\n",
       "matisse      1.117469\n",
       "picasso      1.083420\n",
       "duchamp      1.055209\n",
       "rembrandt    1.027414\n",
       "titian       1.001785\n",
       "dtype: float64"
      ]
     },
     "execution_count": 30,
     "metadata": {},
     "output_type": "execute_result"
    }
   ],
   "source": [
    "riddle(\"science\", \"einstein\", \"painting\")"
   ]
  },
  {
   "cell_type": "code",
   "execution_count": 32,
   "metadata": {
    "scrolled": true
   },
   "outputs": [
    {
     "data": {
      "text/plain": [
       "0\n",
       "nietzsche      0.897995\n",
       "copernicus     0.886114\n",
       "freud          0.872768\n",
       "hegel          0.865735\n",
       "kierkegaard    0.843774\n",
       "dtype: float64"
      ]
     },
     "execution_count": 32,
     "metadata": {},
     "output_type": "execute_result"
    }
   ],
   "source": [
    "riddle(\"astronomy\", \"copernicus\", \"philosophy\")"
   ]
  },
  {
   "cell_type": "code",
   "execution_count": 116,
   "metadata": {},
   "outputs": [
    {
     "data": {
      "text/plain": [
       "0\n",
       "obama      0.820302\n",
       "barack     0.800551\n",
       "bush       0.784341\n",
       "clinton    0.779813\n",
       "hillary    0.763693\n",
       "dtype: float64"
      ]
     },
     "execution_count": 116,
     "metadata": {},
     "output_type": "execute_result"
    }
   ],
   "source": [
    "dfn.dot(dfn.loc[\"merkel\"] - dfn.loc[\"germany\"] + dfn.loc[\"america\"]).sort_values(ascending=False).head(5)"
   ]
  },
  {
   "cell_type": "code",
   "execution_count": null,
   "metadata": {
    "collapsed": true
   },
   "outputs": [],
   "source": []
  }
 ],
 "metadata": {
  "kernelspec": {
   "display_name": "Python 3",
   "language": "python",
   "name": "python3"
  },
  "language_info": {
   "codemirror_mode": {
    "name": "ipython",
    "version": 3
   },
   "file_extension": ".py",
   "mimetype": "text/x-python",
   "name": "python",
   "nbconvert_exporter": "python",
   "pygments_lexer": "ipython3",
   "version": "3.6.3"
  }
 },
 "nbformat": 4,
 "nbformat_minor": 2
}

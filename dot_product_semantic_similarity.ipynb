{
 "cells": [
  {
   "cell_type": "code",
   "execution_count": 2,
   "metadata": {
    "collapsed": true
   },
   "outputs": [],
   "source": [
    "import pandas as pd\n",
    "import numpy as np\n"
   ]
  },
  {
   "cell_type": "code",
   "execution_count": 3,
   "metadata": {
    "collapsed": true
   },
   "outputs": [],
   "source": [
    "df = pd.DataFrame(pd.read_csv(\"./data/minimal.50d.3f.csv\")).set_index(\"0\")"
   ]
  },
  {
   "cell_type": "code",
   "execution_count": 4,
   "metadata": {
    "collapsed": true
   },
   "outputs": [],
   "source": [
    "words = df.index"
   ]
  },
  {
   "cell_type": "code",
   "execution_count": 5,
   "metadata": {},
   "outputs": [
    {
     "data": {
      "text/plain": [
       "True"
      ]
     },
     "execution_count": 5,
     "metadata": {},
     "output_type": "execute_result"
    }
   ],
   "source": [
    "\"happy\" in words"
   ]
  },
  {
   "cell_type": "code",
   "execution_count": 6,
   "metadata": {
    "collapsed": true
   },
   "outputs": [],
   "source": [
    "examples = [\"happy\", \"sad\", \n",
    "            \"good\", \"bad\", \"evil\", \n",
    "            \"healthy\", \"ill\",\n",
    "            \"beaming\", \"cheerful\", \"joyful\", \"radiant\", \"glad\", \"upset\",\n",
    "            \"disco\", \"probably\", \"hardly\", \"ephemeral\", \"close\", \"cleaning\", \"maths\", \"word\", \"world\", \"distribution\"\n",
    "           ]"
   ]
  },
  {
   "cell_type": "code",
   "execution_count": 7,
   "metadata": {
    "scrolled": true
   },
   "outputs": [
    {
     "data": {
      "text/plain": [
       "0\n",
       "happy           21.501216\n",
       "good            20.950021\n",
       "bad             16.836038\n",
       "glad            16.784497\n",
       "sad             16.145775\n",
       "probably        15.474731\n",
       "hardly          15.118825\n",
       "healthy         15.065344\n",
       "world           14.689081\n",
       "word            13.926871\n",
       "upset           12.478357\n",
       "close           11.433478\n",
       "joyful          11.041163\n",
       "ill             10.956533\n",
       "cheerful        10.883002\n",
       "evil            10.804643\n",
       "disco            7.244018\n",
       "cleaning         5.473685\n",
       "beaming          5.066578\n",
       "distribution     3.824066\n",
       "radiant          2.503549\n",
       "ephemeral        2.347286\n",
       "maths           -0.282202\n",
       "dtype: float64"
      ]
     },
     "execution_count": 7,
     "metadata": {},
     "output_type": "execute_result"
    }
   ],
   "source": [
    "df.loc[examples].dot(df.loc[\"happy\"]).sort_values(ascending=False)"
   ]
  },
  {
   "cell_type": "code",
   "execution_count": 8,
   "metadata": {
    "collapsed": true
   },
   "outputs": [],
   "source": [
    "lens = (df**2).sum(axis=1)"
   ]
  },
  {
   "cell_type": "code",
   "execution_count": 9,
   "metadata": {
    "collapsed": true
   },
   "outputs": [],
   "source": [
    "dfn = df.div(np.sqrt(lens), axis='index')"
   ]
  },
  {
   "cell_type": "code",
   "execution_count": 10,
   "metadata": {
    "collapsed": true
   },
   "outputs": [],
   "source": [
    "normalized = dfn.loc[examples].dot(dfn.loc[\"happy\"])"
   ]
  },
  {
   "cell_type": "code",
   "execution_count": 12,
   "metadata": {
    "collapsed": true
   },
   "outputs": [],
   "source": [
    "not_norm = df.loc[examples].dot(df.loc[\"happy\"]).sort_values(ascending=False)"
   ]
  },
  {
   "cell_type": "code",
   "execution_count": 21,
   "metadata": {},
   "outputs": [
    {
     "data": {
      "text/html": [
       "<div>\n",
       "<style>\n",
       "    .dataframe thead tr:only-child th {\n",
       "        text-align: right;\n",
       "    }\n",
       "\n",
       "    .dataframe thead th {\n",
       "        text-align: left;\n",
       "    }\n",
       "\n",
       "    .dataframe tbody tr th {\n",
       "        vertical-align: top;\n",
       "    }\n",
       "</style>\n",
       "<table border=\"1\" class=\"dataframe\">\n",
       "  <thead>\n",
       "    <tr style=\"text-align: right;\">\n",
       "      <th></th>\n",
       "      <th>0</th>\n",
       "      <th>1</th>\n",
       "    </tr>\n",
       "  </thead>\n",
       "  <tbody>\n",
       "    <tr>\n",
       "      <th>happy</th>\n",
       "      <td>1.000000</td>\n",
       "      <td>21.501216</td>\n",
       "    </tr>\n",
       "    <tr>\n",
       "      <th>glad</th>\n",
       "      <td>0.865924</td>\n",
       "      <td>16.784497</td>\n",
       "    </tr>\n",
       "    <tr>\n",
       "      <th>good</th>\n",
       "      <td>0.857358</td>\n",
       "      <td>20.950021</td>\n",
       "    </tr>\n",
       "    <tr>\n",
       "      <th>hardly</th>\n",
       "      <td>0.816185</td>\n",
       "      <td>15.118825</td>\n",
       "    </tr>\n",
       "    <tr>\n",
       "      <th>probably</th>\n",
       "      <td>0.747570</td>\n",
       "      <td>15.474731</td>\n",
       "    </tr>\n",
       "    <tr>\n",
       "      <th>bad</th>\n",
       "      <td>0.708339</td>\n",
       "      <td>16.836038</td>\n",
       "    </tr>\n",
       "    <tr>\n",
       "      <th>sad</th>\n",
       "      <td>0.689097</td>\n",
       "      <td>16.145775</td>\n",
       "    </tr>\n",
       "    <tr>\n",
       "      <th>healthy</th>\n",
       "      <td>0.640556</td>\n",
       "      <td>15.065344</td>\n",
       "    </tr>\n",
       "    <tr>\n",
       "      <th>word</th>\n",
       "      <td>0.599137</td>\n",
       "      <td>13.926871</td>\n",
       "    </tr>\n",
       "    <tr>\n",
       "      <th>cheerful</th>\n",
       "      <td>0.575830</td>\n",
       "      <td>10.883002</td>\n",
       "    </tr>\n",
       "    <tr>\n",
       "      <th>upset</th>\n",
       "      <td>0.566414</td>\n",
       "      <td>12.478357</td>\n",
       "    </tr>\n",
       "    <tr>\n",
       "      <th>world</th>\n",
       "      <td>0.557479</td>\n",
       "      <td>14.689081</td>\n",
       "    </tr>\n",
       "    <tr>\n",
       "      <th>joyful</th>\n",
       "      <td>0.555073</td>\n",
       "      <td>11.041163</td>\n",
       "    </tr>\n",
       "    <tr>\n",
       "      <th>close</th>\n",
       "      <td>0.554024</td>\n",
       "      <td>11.433478</td>\n",
       "    </tr>\n",
       "    <tr>\n",
       "      <th>ill</th>\n",
       "      <td>0.522945</td>\n",
       "      <td>10.956533</td>\n",
       "    </tr>\n",
       "    <tr>\n",
       "      <th>evil</th>\n",
       "      <td>0.452100</td>\n",
       "      <td>10.804643</td>\n",
       "    </tr>\n",
       "    <tr>\n",
       "      <th>disco</th>\n",
       "      <td>0.324708</td>\n",
       "      <td>7.244018</td>\n",
       "    </tr>\n",
       "    <tr>\n",
       "      <th>beaming</th>\n",
       "      <td>0.289623</td>\n",
       "      <td>5.066578</td>\n",
       "    </tr>\n",
       "    <tr>\n",
       "      <th>cleaning</th>\n",
       "      <td>0.245926</td>\n",
       "      <td>5.473685</td>\n",
       "    </tr>\n",
       "    <tr>\n",
       "      <th>distribution</th>\n",
       "      <td>0.160061</td>\n",
       "      <td>3.824066</td>\n",
       "    </tr>\n",
       "    <tr>\n",
       "      <th>radiant</th>\n",
       "      <td>0.134883</td>\n",
       "      <td>2.503549</td>\n",
       "    </tr>\n",
       "    <tr>\n",
       "      <th>ephemeral</th>\n",
       "      <td>0.132891</td>\n",
       "      <td>2.347286</td>\n",
       "    </tr>\n",
       "    <tr>\n",
       "      <th>maths</th>\n",
       "      <td>-0.012146</td>\n",
       "      <td>-0.282202</td>\n",
       "    </tr>\n",
       "  </tbody>\n",
       "</table>\n",
       "</div>"
      ],
      "text/plain": [
       "                     0          1\n",
       "happy         1.000000  21.501216\n",
       "glad          0.865924  16.784497\n",
       "good          0.857358  20.950021\n",
       "hardly        0.816185  15.118825\n",
       "probably      0.747570  15.474731\n",
       "bad           0.708339  16.836038\n",
       "sad           0.689097  16.145775\n",
       "healthy       0.640556  15.065344\n",
       "word          0.599137  13.926871\n",
       "cheerful      0.575830  10.883002\n",
       "upset         0.566414  12.478357\n",
       "world         0.557479  14.689081\n",
       "joyful        0.555073  11.041163\n",
       "close         0.554024  11.433478\n",
       "ill           0.522945  10.956533\n",
       "evil          0.452100  10.804643\n",
       "disco         0.324708   7.244018\n",
       "beaming       0.289623   5.066578\n",
       "cleaning      0.245926   5.473685\n",
       "distribution  0.160061   3.824066\n",
       "radiant       0.134883   2.503549\n",
       "ephemeral     0.132891   2.347286\n",
       "maths        -0.012146  -0.282202"
      ]
     },
     "execution_count": 21,
     "metadata": {},
     "output_type": "execute_result"
    }
   ],
   "source": [
    "pd.concat([normalized, not_norm], axis = 1).sort_values(by=0, ascending=False)"
   ]
  },
  {
   "cell_type": "code",
   "execution_count": 14,
   "metadata": {},
   "outputs": [
    {
     "data": {
      "text/plain": [
       "0.88601854083989251"
      ]
     },
     "execution_count": 14,
     "metadata": {},
     "output_type": "execute_result"
    }
   ],
   "source": [
    "dfn.loc[\"man\"].dot(dfn.loc[\"woman\"])"
   ]
  },
  {
   "cell_type": "code",
   "execution_count": 15,
   "metadata": {},
   "outputs": [
    {
     "data": {
      "text/plain": [
       "0.87777559121552784"
      ]
     },
     "execution_count": 15,
     "metadata": {},
     "output_type": "execute_result"
    }
   ],
   "source": [
    "dfn.loc[\"picasso\"].dot(dfn.loc[\"monet\"])"
   ]
  },
  {
   "cell_type": "code",
   "execution_count": 20,
   "metadata": {},
   "outputs": [
    {
     "data": {
      "text/plain": [
       "0.70713924038688858"
      ]
     },
     "execution_count": 20,
     "metadata": {},
     "output_type": "execute_result"
    }
   ],
   "source": [
    "dfn.loc[\"picasso\"].dot(dfn.loc[\"michelangelo\"])"
   ]
  },
  {
   "cell_type": "code",
   "execution_count": 17,
   "metadata": {},
   "outputs": [
    {
     "data": {
      "text/plain": [
       "0.32980185955857388"
      ]
     },
     "execution_count": 17,
     "metadata": {},
     "output_type": "execute_result"
    }
   ],
   "source": [
    "dfn.loc[\"picasso\"].dot(dfn.loc[\"pollock\"])"
   ]
  },
  {
   "cell_type": "code",
   "execution_count": 18,
   "metadata": {
    "scrolled": true
   },
   "outputs": [
    {
     "data": {
      "text/plain": [
       "0.76089236953811612"
      ]
     },
     "execution_count": 18,
     "metadata": {},
     "output_type": "execute_result"
    }
   ],
   "source": [
    "dfn.loc[\"picasso\"].dot(dfn.loc[\"gogh\"])"
   ]
  },
  {
   "cell_type": "code",
   "execution_count": null,
   "metadata": {
    "collapsed": true
   },
   "outputs": [],
   "source": []
  }
 ],
 "metadata": {
  "kernelspec": {
   "display_name": "Python 3",
   "language": "python",
   "name": "python3"
  },
  "language_info": {
   "codemirror_mode": {
    "name": "ipython",
    "version": 3
   },
   "file_extension": ".py",
   "mimetype": "text/x-python",
   "name": "python",
   "nbconvert_exporter": "python",
   "pygments_lexer": "ipython3",
   "version": "3.6.3"
  }
 },
 "nbformat": 4,
 "nbformat_minor": 2
}

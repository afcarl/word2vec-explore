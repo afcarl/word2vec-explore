{
 "cells": [
  {
   "cell_type": "code",
   "execution_count": 1,
   "metadata": {
    "collapsed": true
   },
   "outputs": [],
   "source": [
    "import numpy as np\n",
    "import pandas as pd"
   ]
  },
  {
   "cell_type": "code",
   "execution_count": 2,
   "metadata": {},
   "outputs": [
    {
     "data": {
      "text/plain": [
       "range(0, 201)"
      ]
     },
     "execution_count": 2,
     "metadata": {},
     "output_type": "execute_result"
    }
   ],
   "source": [
    "range(201)"
   ]
  },
  {
   "cell_type": "code",
   "execution_count": 6,
   "metadata": {
    "scrolled": true
   },
   "outputs": [],
   "source": [
    "df = pd.DataFrame(pd.read_table(\"./data/glove.6B.200d.txt\", header=None, names=map(str,range(201)), sep=' '))\n",
    "#df = pd.DataFrame(pd.read_csv(\"./data/minimal.50d.3f.csv\")).set_index(\"0\")"
   ]
  },
  {
   "cell_type": "code",
   "execution_count": 7,
   "metadata": {
    "collapsed": true,
    "scrolled": true
   },
   "outputs": [],
   "source": [
    "df = df.set_index(\"0\")"
   ]
  },
  {
   "cell_type": "code",
   "execution_count": 8,
   "metadata": {
    "collapsed": true,
    "scrolled": true
   },
   "outputs": [],
   "source": [
    "words = df.index"
   ]
  },
  {
   "cell_type": "code",
   "execution_count": 9,
   "metadata": {
    "collapsed": true
   },
   "outputs": [],
   "source": [
    "lens = (df**2).sum(axis=1)\n",
    "dfn = df.div(np.sqrt(lens), axis='index')"
   ]
  },
  {
   "cell_type": "code",
   "execution_count": 10,
   "metadata": {
    "collapsed": true
   },
   "outputs": [],
   "source": [
    "def find_most_similar(word, data, n=5):\n",
    "    dotted = data.dot(data.loc[word])\n",
    "    return dotted.reindex(dotted.sort_values(ascending = False).index).head(n)"
   ]
  },
  {
   "cell_type": "code",
   "execution_count": 11,
   "metadata": {
    "collapsed": true
   },
   "outputs": [],
   "source": [
    "def reject(row, remove, data):\n",
    "    row = data.loc[row]\n",
    "    for val in remove:\n",
    "        val = data.loc[val]\n",
    "        row = row - (row.dot(val)*val/val.dot(val))\n",
    "    return row"
   ]
  },
  {
   "cell_type": "markdown",
   "metadata": {},
   "source": [
    "# Vector rejection"
   ]
  },
  {
   "cell_type": "code",
   "execution_count": 12,
   "metadata": {},
   "outputs": [
    {
     "data": {
      "text/plain": [
       "0\n",
       "rock      1.000000\n",
       "band      0.694770\n",
       "pop       0.674067\n",
       "punk      0.661065\n",
       "bands     0.645949\n",
       "'n'       0.624487\n",
       "rocks     0.616312\n",
       "album     0.613320\n",
       "albums    0.600090\n",
       "music     0.599088\n",
       "dtype: float64"
      ]
     },
     "execution_count": 12,
     "metadata": {},
     "output_type": "execute_result"
    }
   ],
   "source": [
    "find_most_similar('rock', dfn, 10)"
   ]
  },
  {
   "cell_type": "code",
   "execution_count": 13,
   "metadata": {},
   "outputs": [
    {
     "data": {
      "text/plain": [
       "0\n",
       "rock           0.641093\n",
       "rocks          0.498883\n",
       "outcropping    0.444147\n",
       "limestone      0.431764\n",
       "outcrops       0.419863\n",
       "outcrop        0.409561\n",
       "cliffs         0.404085\n",
       "fraggle        0.400296\n",
       "rockers        0.399462\n",
       "granite        0.399351\n",
       "dtype: float64"
      ]
     },
     "execution_count": 13,
     "metadata": {},
     "output_type": "execute_result"
    }
   ],
   "source": [
    "dfn.dot(reject('rock', ['music'], dfn)).sort_values(ascending = False).head(10)"
   ]
  },
  {
   "cell_type": "code",
   "execution_count": 14,
   "metadata": {
    "scrolled": true
   },
   "outputs": [
    {
     "data": {
      "text/plain": [
       "0\n",
       "tie      1.000000\n",
       "tied     0.765292\n",
       "tying    0.643982\n",
       "3-3      0.612363\n",
       "2-2      0.594952\n",
       "win      0.588898\n",
       "1-1      0.587799\n",
       "3-2      0.586701\n",
       "match    0.567742\n",
       "draw     0.563983\n",
       "dtype: float64"
      ]
     },
     "execution_count": 14,
     "metadata": {},
     "output_type": "execute_result"
    }
   ],
   "source": [
    "find_most_similar('tie', dfn, 10)"
   ]
  },
  {
   "cell_type": "code",
   "execution_count": 15,
   "metadata": {},
   "outputs": [
    {
     "data": {
      "text/plain": [
       "0\n",
       "tie          0.681923\n",
       "tied         0.543408\n",
       "tying        0.501142\n",
       "jackets      0.402242\n",
       "sweater      0.400014\n",
       "knotted      0.399760\n",
       "jacket       0.384109\n",
       "necktie      0.382247\n",
       "shoelaces    0.377615\n",
       "31-31        0.376301\n",
       "dtype: float64"
      ]
     },
     "execution_count": 15,
     "metadata": {},
     "output_type": "execute_result"
    }
   ],
   "source": [
    "dfn.dot(reject('tie', ['draw'], dfn)).sort_values(ascending = False).head(10)"
   ]
  },
  {
   "cell_type": "code",
   "execution_count": 16,
   "metadata": {},
   "outputs": [
    {
     "data": {
      "text/plain": [
       "0\n",
       "nail        1.000000\n",
       "nails       0.668212\n",
       "biter       0.619956\n",
       "remover     0.501642\n",
       "tooth       0.498468\n",
       "hammer      0.496885\n",
       "glue        0.476576\n",
       "polishes    0.469563\n",
       "toe         0.462333\n",
       "scissors    0.460371\n",
       "dtype: float64"
      ]
     },
     "execution_count": 16,
     "metadata": {},
     "output_type": "execute_result"
    }
   ],
   "source": [
    "find_most_similar('nail', dfn, 10)"
   ]
  },
  {
   "cell_type": "code",
   "execution_count": 17,
   "metadata": {},
   "outputs": [
    {
     "data": {
      "text/plain": [
       "0\n",
       "nails        0.652232\n",
       "screws       0.466175\n",
       "bolts        0.456011\n",
       "metal        0.428832\n",
       "nail         0.424728\n",
       "cylinders    0.397965\n",
       "reznor       0.383959\n",
       "plastic      0.378701\n",
       "stones       0.374274\n",
       "inch         0.366976\n",
       "dtype: float64"
      ]
     },
     "execution_count": 17,
     "metadata": {},
     "output_type": "execute_result"
    }
   ],
   "source": [
    "dfn.dot(reject('nails', ['fingernails'], dfn)).sort_values(ascending = False).head(10)"
   ]
  },
  {
   "cell_type": "code",
   "execution_count": 18,
   "metadata": {},
   "outputs": [
    {
     "data": {
      "text/plain": [
       "0\n",
       "java          1.000000\n",
       "sumatra       0.610773\n",
       "semarang      0.603432\n",
       "surabaya      0.596304\n",
       "yogyakarta    0.571615\n",
       "dtype: float64"
      ]
     },
     "execution_count": 18,
     "metadata": {},
     "output_type": "execute_result"
    }
   ],
   "source": [
    "find_most_similar('java', dfn)"
   ]
  },
  {
   "cell_type": "code",
   "execution_count": 19,
   "metadata": {},
   "outputs": [
    {
     "data": {
      "text/plain": [
       "0\n",
       "java               0.626956\n",
       "software           0.441177\n",
       "implementations    0.428661\n",
       "desktop            0.423842\n",
       "server             0.420261\n",
       "javascript         0.412673\n",
       "browser            0.410561\n",
       "c++                0.408624\n",
       "html               0.408063\n",
       "functionality      0.405041\n",
       "dtype: float64"
      ]
     },
     "execution_count": 19,
     "metadata": {},
     "output_type": "execute_result"
    }
   ],
   "source": [
    "dfn.dot(reject('java', ['sumatra'], dfn)).sort_values(ascending = False).head(10)"
   ]
  },
  {
   "cell_type": "code",
   "execution_count": 20,
   "metadata": {
    "scrolled": true
   },
   "outputs": [
    {
     "data": {
      "text/plain": [
       "0\n",
       "python         1.000000\n",
       "monty          0.689272\n",
       "spamalot       0.561178\n",
       "cleese         0.545438\n",
       "php            0.525527\n",
       "pythons        0.507684\n",
       "perl           0.499981\n",
       "scripting      0.485102\n",
       "skit           0.475383\n",
       "reticulatus    0.470973\n",
       "dtype: float64"
      ]
     },
     "execution_count": 20,
     "metadata": {},
     "output_type": "execute_result"
    }
   ],
   "source": [
    "find_most_similar('python', dfn, 10)"
   ]
  },
  {
   "cell_type": "code",
   "execution_count": 21,
   "metadata": {},
   "outputs": [
    {
     "data": {
      "text/plain": [
       "0\n",
       "python         0.524904\n",
       "php            0.414212\n",
       "scripting      0.398441\n",
       "java           0.336685\n",
       "server-side    0.334762\n",
       "pythons        0.323510\n",
       "perl           0.322435\n",
       "javascript     0.317562\n",
       "c++            0.316876\n",
       "bindings       0.316854\n",
       "dtype: float64"
      ]
     },
     "execution_count": 21,
     "metadata": {},
     "output_type": "execute_result"
    }
   ],
   "source": [
    "dfn.dot(reject('python', ['monty'], dfn)).sort_values(ascending = False).head(10)"
   ]
  },
  {
   "cell_type": "code",
   "execution_count": 22,
   "metadata": {
    "scrolled": true
   },
   "outputs": [
    {
     "data": {
      "text/plain": [
       "0\n",
       "python         0.307225\n",
       "pythons        0.263030\n",
       "reticulated    0.236272\n",
       "crocodile      0.232522\n",
       "snake          0.230709\n",
       "monkey         0.227266\n",
       "burmese        0.225066\n",
       "lizard         0.219475\n",
       "turtles        0.216014\n",
       "tortoise       0.214143\n",
       "dtype: float64"
      ]
     },
     "execution_count": 22,
     "metadata": {},
     "output_type": "execute_result"
    }
   ],
   "source": [
    "dfn.dot(reject('python', ['monty', 'php'], dfn)).sort_values(ascending = False).head(10)"
   ]
  },
  {
   "cell_type": "code",
   "execution_count": 23,
   "metadata": {
    "scrolled": true
   },
   "outputs": [
    {
     "data": {
      "text/plain": [
       "0\n",
       "polish        1.000000\n",
       "lithuanian    0.725827\n",
       "hungarian     0.701218\n",
       "poland        0.694825\n",
       "slovak        0.667826\n",
       "dtype: float64"
      ]
     },
     "execution_count": 23,
     "metadata": {},
     "output_type": "execute_result"
    }
   ],
   "source": [
    "find_most_similar(\"polish\", dfn)"
   ]
  },
  {
   "cell_type": "code",
   "execution_count": 24,
   "metadata": {
    "scrolled": true
   },
   "outputs": [
    {
     "data": {
      "text/plain": [
       "0\n",
       "polish    0.473175\n",
       "poland    0.383410\n",
       "warsaw    0.344952\n",
       "german    0.286086\n",
       "jerzy     0.267660\n",
       "walesa    0.263369\n",
       "pope      0.262397\n",
       "krakow    0.260597\n",
       "lech      0.253146\n",
       "iraqi     0.251096\n",
       "dtype: float64"
      ]
     },
     "execution_count": 24,
     "metadata": {},
     "output_type": "execute_result"
    }
   ],
   "source": [
    "dfn.dot(reject('polish', ['lithuanian'], dfn)).sort_values(ascending = False).head(10)"
   ]
  },
  {
   "cell_type": "code",
   "execution_count": 25,
   "metadata": {},
   "outputs": [
    {
     "data": {
      "text/plain": [
       "0\n",
       "poland       1.000000\n",
       "hungary      0.718500\n",
       "lithuania    0.697112\n",
       "polish       0.694825\n",
       "warsaw       0.676961\n",
       "dtype: float64"
      ]
     },
     "execution_count": 25,
     "metadata": {},
     "output_type": "execute_result"
    }
   ],
   "source": [
    "find_most_similar(\"poland\", dfn)"
   ]
  },
  {
   "cell_type": "markdown",
   "metadata": {},
   "source": [
    "# Removing gender"
   ]
  },
  {
   "cell_type": "code",
   "execution_count": 26,
   "metadata": {
    "collapsed": true
   },
   "outputs": [],
   "source": [
    "she_he = df.loc['she'] - df.loc['he']\n",
    "she_he_len = she_he.dot(she_he)\n",
    "def degenderize(row):\n",
    "    return row - (row.dot(she_he)*she_he/she_he_len)"
   ]
  },
  {
   "cell_type": "code",
   "execution_count": 27,
   "metadata": {
    "collapsed": true
   },
   "outputs": [],
   "source": [
    "ungendered = df.apply(degenderize, axis=1)"
   ]
  },
  {
   "cell_type": "code",
   "execution_count": 28,
   "metadata": {
    "collapsed": true
   },
   "outputs": [],
   "source": [
    "ungendered = ungendered.div(np.sqrt((ungendered**2).sum(axis=1)), axis='index')"
   ]
  },
  {
   "cell_type": "code",
   "execution_count": 29,
   "metadata": {
    "collapsed": true
   },
   "outputs": [],
   "source": [
    "def similarity(a, b, data):\n",
    "    return data.loc[a].dot(data.loc[b])"
   ]
  },
  {
   "cell_type": "code",
   "execution_count": 30,
   "metadata": {
    "scrolled": true
   },
   "outputs": [
    {
     "data": {
      "text/plain": [
       "0\n",
       "jane         1.000000\n",
       "elizabeth    0.608416\n",
       "anne         0.601765\n",
       "mary         0.572299\n",
       "sarah        0.570372\n",
       "eliza        0.558833\n",
       "alice        0.555983\n",
       "helen        0.553562\n",
       "ellen        0.553515\n",
       "fonda        0.537337\n",
       "dtype: float64"
      ]
     },
     "execution_count": 30,
     "metadata": {},
     "output_type": "execute_result"
    }
   ],
   "source": [
    "find_most_similar('jane', dfn, 10)"
   ]
  },
  {
   "cell_type": "code",
   "execution_count": 31,
   "metadata": {
    "scrolled": true
   },
   "outputs": [
    {
     "data": {
      "text/plain": [
       "0\n",
       "jane         1.000000\n",
       "elizabeth    0.556611\n",
       "anne         0.545300\n",
       "john         0.540406\n",
       "bruce        0.537315\n",
       "william      0.527928\n",
       "henry        0.525371\n",
       "eyre         0.515861\n",
       "mary         0.515024\n",
       "sarah        0.506965\n",
       "dtype: float64"
      ]
     },
     "execution_count": 31,
     "metadata": {},
     "output_type": "execute_result"
    }
   ],
   "source": [
    "find_most_similar('jane', ungendered, 10)"
   ]
  },
  {
   "cell_type": "code",
   "execution_count": 32,
   "metadata": {},
   "outputs": [
    {
     "data": {
      "text/plain": [
       "0\n",
       "mother         1.000000\n",
       "daughter       0.864802\n",
       "wife           0.856802\n",
       "grandmother    0.837379\n",
       "husband        0.805565\n",
       "sister         0.802924\n",
       "father         0.793677\n",
       "her            0.783749\n",
       "daughters      0.758976\n",
       "woman          0.757987\n",
       "dtype: float64"
      ]
     },
     "execution_count": 32,
     "metadata": {},
     "output_type": "execute_result"
    }
   ],
   "source": [
    "find_most_similar('mother', dfn, 10)"
   ]
  },
  {
   "cell_type": "code",
   "execution_count": 33,
   "metadata": {},
   "outputs": [
    {
     "data": {
      "text/plain": [
       "0\n",
       "mother         1.000000\n",
       "father         0.888926\n",
       "daughter       0.842649\n",
       "wife           0.837058\n",
       "grandmother    0.811116\n",
       "husband        0.804543\n",
       "son            0.787408\n",
       "sister         0.759808\n",
       "brother        0.757006\n",
       "her            0.738656\n",
       "dtype: float64"
      ]
     },
     "execution_count": 33,
     "metadata": {},
     "output_type": "execute_result"
    }
   ],
   "source": [
    "find_most_similar('mother', ungendered, 10)"
   ]
  },
  {
   "cell_type": "code",
   "execution_count": null,
   "metadata": {
    "collapsed": true
   },
   "outputs": [],
   "source": []
  }
 ],
 "metadata": {
  "kernelspec": {
   "display_name": "Python 3",
   "language": "python",
   "name": "python3"
  },
  "language_info": {
   "codemirror_mode": {
    "name": "ipython",
    "version": 3
   },
   "file_extension": ".py",
   "mimetype": "text/x-python",
   "name": "python",
   "nbconvert_exporter": "python",
   "pygments_lexer": "ipython3",
   "version": "3.6.3"
  }
 },
 "nbformat": 4,
 "nbformat_minor": 2
}
